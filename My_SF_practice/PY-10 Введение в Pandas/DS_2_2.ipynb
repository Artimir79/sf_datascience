{
 "cells": [
  {
   "cell_type": "markdown",
   "metadata": {},
   "source": [
    "## Task"
   ]
  },
  {
   "cell_type": "code",
   "execution_count": 2,
   "metadata": {},
   "outputs": [
    {
     "name": "stdout",
     "output_type": "stream",
     "text": [
      "37.5\n"
     ]
    }
   ],
   "source": [
    "import pandas as pd\n",
    "\n",
    "def create_medications(names, counts):\n",
    "    \"\"\"\n",
    "    Напишите функцию create_mediactions(names, counts), которая  создает Series medications,\n",
    "    индексами которой являются названия лекарств names, а значениями - их количество в поставке counts\n",
    "    \"\"\"\n",
    "    medications = pd.Series(\n",
    "        data = counts,\n",
    "        index = names,\n",
    "        name = 'medications'\n",
    "    )\n",
    "    return medications\n",
    "   \n",
    "\n",
    "def get_percent(medications, name):\n",
    "    \"\"\"\n",
    "    А также напишите функцию get_percent(medications, name), которая возвращает долю количества товара\n",
    "    с именем name от общего количества товаров в поставке в процентах.\n",
    "    \"\"\"\n",
    "    global counts\n",
    "    percent = medications.loc[name]/sum(medications)*100\n",
    "    return percent\n",
    "\n",
    "\n",
    "if __name__ == '__main__':\n",
    "    names=['chlorhexidine', 'cyntomycin', 'afobazol']\n",
    "    counts=[15, 18, 7]\n",
    "    medications = create_medications(names, counts)\n",
    "    print(get_percent(medications, \"chlorhexidine\"))"
   ]
  },
  {
   "cell_type": "markdown",
   "metadata": {},
   "source": [
    "## Task 3.5"
   ]
  },
  {
   "cell_type": "code",
   "execution_count": 15,
   "metadata": {},
   "outputs": [
    {
     "name": "stdout",
     "output_type": "stream",
     "text": [
      "-74\n"
     ]
    }
   ],
   "source": [
    "import pandas as pd\n",
    "\n",
    "def create_companyDF(incomes, expenses, years):\n",
    "    df = pd.DataFrame({\n",
    "        'incomes':incomes,\n",
    "        'expenses':expenses,   \n",
    "    })\n",
    "    df.index=years\n",
    "    return df\n",
    "\n",
    "def get_profit(df, year):\n",
    "    if year not in df.index: return None\n",
    "    profit = df.loc[year, 'incomes'] - df.loc[year, 'expenses']\n",
    "    return profit\n",
    "\n",
    "if __name__ == '__main__':\n",
    "    expenses = [156, 130, 270]\n",
    "    incomes = [478, 512, 196]\n",
    "    years = [2018, 2019, 2020]\n",
    "    \n",
    "    scienceyou = create_companyDF(incomes, expenses, years)\n",
    "    print(get_profit(scienceyou, 2020))"
   ]
  },
  {
   "cell_type": "code",
   "execution_count": 3,
   "metadata": {},
   "outputs": [
    {
     "data": {
      "text/html": [
       "<div>\n",
       "<style scoped>\n",
       "    .dataframe tbody tr th:only-of-type {\n",
       "        vertical-align: middle;\n",
       "    }\n",
       "\n",
       "    .dataframe tbody tr th {\n",
       "        vertical-align: top;\n",
       "    }\n",
       "\n",
       "    .dataframe thead th {\n",
       "        text-align: right;\n",
       "    }\n",
       "</style>\n",
       "<table border=\"1\" class=\"dataframe\">\n",
       "  <thead>\n",
       "    <tr style=\"text-align: right;\">\n",
       "      <th></th>\n",
       "      <th>index</th>\n",
       "      <th>Suburb</th>\n",
       "      <th>Address</th>\n",
       "      <th>Rooms</th>\n",
       "      <th>Type</th>\n",
       "      <th>Price</th>\n",
       "      <th>Method</th>\n",
       "      <th>SellerG</th>\n",
       "      <th>Date</th>\n",
       "      <th>Distance</th>\n",
       "      <th>...</th>\n",
       "      <th>Car</th>\n",
       "      <th>Landsize</th>\n",
       "      <th>BuildingArea</th>\n",
       "      <th>YearBuilt</th>\n",
       "      <th>CouncilArea</th>\n",
       "      <th>Lattitude</th>\n",
       "      <th>Longtitude</th>\n",
       "      <th>Regionname</th>\n",
       "      <th>Propertycount</th>\n",
       "      <th>Coordinates</th>\n",
       "    </tr>\n",
       "  </thead>\n",
       "  <tbody>\n",
       "    <tr>\n",
       "      <th>0</th>\n",
       "      <td>0</td>\n",
       "      <td>Abbotsford</td>\n",
       "      <td>85 Turner St</td>\n",
       "      <td>2</td>\n",
       "      <td>h</td>\n",
       "      <td>1480000.0</td>\n",
       "      <td>S</td>\n",
       "      <td>Biggin</td>\n",
       "      <td>3/12/2016</td>\n",
       "      <td>2.5</td>\n",
       "      <td>...</td>\n",
       "      <td>1.0</td>\n",
       "      <td>202.0</td>\n",
       "      <td>126.0</td>\n",
       "      <td>1970.0</td>\n",
       "      <td>Yarra</td>\n",
       "      <td>-37.79960</td>\n",
       "      <td>144.99840</td>\n",
       "      <td>Northern Metropolitan</td>\n",
       "      <td>4019.0</td>\n",
       "      <td>-37.7996, 144.9984</td>\n",
       "    </tr>\n",
       "    <tr>\n",
       "      <th>1</th>\n",
       "      <td>1</td>\n",
       "      <td>Abbotsford</td>\n",
       "      <td>25 Bloomburg St</td>\n",
       "      <td>2</td>\n",
       "      <td>h</td>\n",
       "      <td>1035000.0</td>\n",
       "      <td>S</td>\n",
       "      <td>Biggin</td>\n",
       "      <td>4/02/2016</td>\n",
       "      <td>2.5</td>\n",
       "      <td>...</td>\n",
       "      <td>0.0</td>\n",
       "      <td>156.0</td>\n",
       "      <td>79.0</td>\n",
       "      <td>1900.0</td>\n",
       "      <td>Yarra</td>\n",
       "      <td>-37.80790</td>\n",
       "      <td>144.99340</td>\n",
       "      <td>Northern Metropolitan</td>\n",
       "      <td>4019.0</td>\n",
       "      <td>-37.8079, 144.9934</td>\n",
       "    </tr>\n",
       "    <tr>\n",
       "      <th>2</th>\n",
       "      <td>2</td>\n",
       "      <td>Abbotsford</td>\n",
       "      <td>5 Charles St</td>\n",
       "      <td>3</td>\n",
       "      <td>h</td>\n",
       "      <td>1465000.0</td>\n",
       "      <td>SP</td>\n",
       "      <td>Biggin</td>\n",
       "      <td>4/03/2017</td>\n",
       "      <td>2.5</td>\n",
       "      <td>...</td>\n",
       "      <td>0.0</td>\n",
       "      <td>134.0</td>\n",
       "      <td>150.0</td>\n",
       "      <td>1900.0</td>\n",
       "      <td>Yarra</td>\n",
       "      <td>-37.80930</td>\n",
       "      <td>144.99440</td>\n",
       "      <td>Northern Metropolitan</td>\n",
       "      <td>4019.0</td>\n",
       "      <td>-37.8093, 144.9944</td>\n",
       "    </tr>\n",
       "    <tr>\n",
       "      <th>3</th>\n",
       "      <td>3</td>\n",
       "      <td>Abbotsford</td>\n",
       "      <td>40 Federation La</td>\n",
       "      <td>3</td>\n",
       "      <td>h</td>\n",
       "      <td>850000.0</td>\n",
       "      <td>PI</td>\n",
       "      <td>Biggin</td>\n",
       "      <td>4/03/2017</td>\n",
       "      <td>2.5</td>\n",
       "      <td>...</td>\n",
       "      <td>1.0</td>\n",
       "      <td>94.0</td>\n",
       "      <td>126.0</td>\n",
       "      <td>1970.0</td>\n",
       "      <td>Yarra</td>\n",
       "      <td>-37.79690</td>\n",
       "      <td>144.99690</td>\n",
       "      <td>Northern Metropolitan</td>\n",
       "      <td>4019.0</td>\n",
       "      <td>-37.7969, 144.9969</td>\n",
       "    </tr>\n",
       "    <tr>\n",
       "      <th>4</th>\n",
       "      <td>4</td>\n",
       "      <td>Abbotsford</td>\n",
       "      <td>55a Park St</td>\n",
       "      <td>4</td>\n",
       "      <td>h</td>\n",
       "      <td>1600000.0</td>\n",
       "      <td>VB</td>\n",
       "      <td>Nelson</td>\n",
       "      <td>4/06/2016</td>\n",
       "      <td>2.5</td>\n",
       "      <td>...</td>\n",
       "      <td>2.0</td>\n",
       "      <td>120.0</td>\n",
       "      <td>142.0</td>\n",
       "      <td>2014.0</td>\n",
       "      <td>Yarra</td>\n",
       "      <td>-37.80720</td>\n",
       "      <td>144.99410</td>\n",
       "      <td>Northern Metropolitan</td>\n",
       "      <td>4019.0</td>\n",
       "      <td>-37.8072, 144.9941</td>\n",
       "    </tr>\n",
       "    <tr>\n",
       "      <th>...</th>\n",
       "      <td>...</td>\n",
       "      <td>...</td>\n",
       "      <td>...</td>\n",
       "      <td>...</td>\n",
       "      <td>...</td>\n",
       "      <td>...</td>\n",
       "      <td>...</td>\n",
       "      <td>...</td>\n",
       "      <td>...</td>\n",
       "      <td>...</td>\n",
       "      <td>...</td>\n",
       "      <td>...</td>\n",
       "      <td>...</td>\n",
       "      <td>...</td>\n",
       "      <td>...</td>\n",
       "      <td>...</td>\n",
       "      <td>...</td>\n",
       "      <td>...</td>\n",
       "      <td>...</td>\n",
       "      <td>...</td>\n",
       "      <td>...</td>\n",
       "    </tr>\n",
       "    <tr>\n",
       "      <th>13575</th>\n",
       "      <td>13575</td>\n",
       "      <td>Wheelers Hill</td>\n",
       "      <td>12 Strada Cr</td>\n",
       "      <td>4</td>\n",
       "      <td>h</td>\n",
       "      <td>1245000.0</td>\n",
       "      <td>S</td>\n",
       "      <td>Barry</td>\n",
       "      <td>26/08/2017</td>\n",
       "      <td>16.7</td>\n",
       "      <td>...</td>\n",
       "      <td>2.0</td>\n",
       "      <td>652.0</td>\n",
       "      <td>126.0</td>\n",
       "      <td>1981.0</td>\n",
       "      <td>NaN</td>\n",
       "      <td>-37.90562</td>\n",
       "      <td>145.16761</td>\n",
       "      <td>South-Eastern Metropolitan</td>\n",
       "      <td>7392.0</td>\n",
       "      <td>-37.90562, 145.16761</td>\n",
       "    </tr>\n",
       "    <tr>\n",
       "      <th>13576</th>\n",
       "      <td>13576</td>\n",
       "      <td>Williamstown</td>\n",
       "      <td>77 Merrett Dr</td>\n",
       "      <td>3</td>\n",
       "      <td>h</td>\n",
       "      <td>1031000.0</td>\n",
       "      <td>SP</td>\n",
       "      <td>Williams</td>\n",
       "      <td>26/08/2017</td>\n",
       "      <td>6.8</td>\n",
       "      <td>...</td>\n",
       "      <td>2.0</td>\n",
       "      <td>333.0</td>\n",
       "      <td>133.0</td>\n",
       "      <td>1995.0</td>\n",
       "      <td>NaN</td>\n",
       "      <td>-37.85927</td>\n",
       "      <td>144.87904</td>\n",
       "      <td>Western Metropolitan</td>\n",
       "      <td>6380.0</td>\n",
       "      <td>-37.85927, 144.87904</td>\n",
       "    </tr>\n",
       "    <tr>\n",
       "      <th>13577</th>\n",
       "      <td>13577</td>\n",
       "      <td>Williamstown</td>\n",
       "      <td>83 Power St</td>\n",
       "      <td>3</td>\n",
       "      <td>h</td>\n",
       "      <td>1170000.0</td>\n",
       "      <td>S</td>\n",
       "      <td>Raine</td>\n",
       "      <td>26/08/2017</td>\n",
       "      <td>6.8</td>\n",
       "      <td>...</td>\n",
       "      <td>4.0</td>\n",
       "      <td>436.0</td>\n",
       "      <td>126.0</td>\n",
       "      <td>1997.0</td>\n",
       "      <td>NaN</td>\n",
       "      <td>-37.85274</td>\n",
       "      <td>144.88738</td>\n",
       "      <td>Western Metropolitan</td>\n",
       "      <td>6380.0</td>\n",
       "      <td>-37.85274, 144.88738</td>\n",
       "    </tr>\n",
       "    <tr>\n",
       "      <th>13578</th>\n",
       "      <td>13578</td>\n",
       "      <td>Williamstown</td>\n",
       "      <td>96 Verdon St</td>\n",
       "      <td>4</td>\n",
       "      <td>h</td>\n",
       "      <td>2500000.0</td>\n",
       "      <td>PI</td>\n",
       "      <td>Sweeney</td>\n",
       "      <td>26/08/2017</td>\n",
       "      <td>6.8</td>\n",
       "      <td>...</td>\n",
       "      <td>5.0</td>\n",
       "      <td>866.0</td>\n",
       "      <td>157.0</td>\n",
       "      <td>1920.0</td>\n",
       "      <td>NaN</td>\n",
       "      <td>-37.85908</td>\n",
       "      <td>144.89299</td>\n",
       "      <td>Western Metropolitan</td>\n",
       "      <td>6380.0</td>\n",
       "      <td>-37.85908, 144.89299</td>\n",
       "    </tr>\n",
       "    <tr>\n",
       "      <th>13579</th>\n",
       "      <td>13579</td>\n",
       "      <td>Yarraville</td>\n",
       "      <td>6 Agnes St</td>\n",
       "      <td>4</td>\n",
       "      <td>h</td>\n",
       "      <td>1285000.0</td>\n",
       "      <td>SP</td>\n",
       "      <td>Village</td>\n",
       "      <td>26/08/2017</td>\n",
       "      <td>6.3</td>\n",
       "      <td>...</td>\n",
       "      <td>1.0</td>\n",
       "      <td>362.0</td>\n",
       "      <td>112.0</td>\n",
       "      <td>1920.0</td>\n",
       "      <td>NaN</td>\n",
       "      <td>-37.81188</td>\n",
       "      <td>144.88449</td>\n",
       "      <td>Western Metropolitan</td>\n",
       "      <td>6543.0</td>\n",
       "      <td>-37.81188, 144.88449</td>\n",
       "    </tr>\n",
       "  </tbody>\n",
       "</table>\n",
       "<p>13580 rows × 23 columns</p>\n",
       "</div>"
      ],
      "text/plain": [
       "       index         Suburb           Address  Rooms Type      Price Method  \\\n",
       "0          0     Abbotsford      85 Turner St      2    h  1480000.0      S   \n",
       "1          1     Abbotsford   25 Bloomburg St      2    h  1035000.0      S   \n",
       "2          2     Abbotsford      5 Charles St      3    h  1465000.0     SP   \n",
       "3          3     Abbotsford  40 Federation La      3    h   850000.0     PI   \n",
       "4          4     Abbotsford       55a Park St      4    h  1600000.0     VB   \n",
       "...      ...            ...               ...    ...  ...        ...    ...   \n",
       "13575  13575  Wheelers Hill      12 Strada Cr      4    h  1245000.0      S   \n",
       "13576  13576   Williamstown     77 Merrett Dr      3    h  1031000.0     SP   \n",
       "13577  13577   Williamstown       83 Power St      3    h  1170000.0      S   \n",
       "13578  13578   Williamstown      96 Verdon St      4    h  2500000.0     PI   \n",
       "13579  13579     Yarraville        6 Agnes St      4    h  1285000.0     SP   \n",
       "\n",
       "        SellerG        Date  Distance  ...  Car  Landsize  BuildingArea  \\\n",
       "0        Biggin   3/12/2016       2.5  ...  1.0     202.0         126.0   \n",
       "1        Biggin   4/02/2016       2.5  ...  0.0     156.0          79.0   \n",
       "2        Biggin   4/03/2017       2.5  ...  0.0     134.0         150.0   \n",
       "3        Biggin   4/03/2017       2.5  ...  1.0      94.0         126.0   \n",
       "4        Nelson   4/06/2016       2.5  ...  2.0     120.0         142.0   \n",
       "...         ...         ...       ...  ...  ...       ...           ...   \n",
       "13575     Barry  26/08/2017      16.7  ...  2.0     652.0         126.0   \n",
       "13576  Williams  26/08/2017       6.8  ...  2.0     333.0         133.0   \n",
       "13577     Raine  26/08/2017       6.8  ...  4.0     436.0         126.0   \n",
       "13578   Sweeney  26/08/2017       6.8  ...  5.0     866.0         157.0   \n",
       "13579   Village  26/08/2017       6.3  ...  1.0     362.0         112.0   \n",
       "\n",
       "       YearBuilt  CouncilArea  Lattitude  Longtitude  \\\n",
       "0         1970.0        Yarra  -37.79960   144.99840   \n",
       "1         1900.0        Yarra  -37.80790   144.99340   \n",
       "2         1900.0        Yarra  -37.80930   144.99440   \n",
       "3         1970.0        Yarra  -37.79690   144.99690   \n",
       "4         2014.0        Yarra  -37.80720   144.99410   \n",
       "...          ...          ...        ...         ...   \n",
       "13575     1981.0          NaN  -37.90562   145.16761   \n",
       "13576     1995.0          NaN  -37.85927   144.87904   \n",
       "13577     1997.0          NaN  -37.85274   144.88738   \n",
       "13578     1920.0          NaN  -37.85908   144.89299   \n",
       "13579     1920.0          NaN  -37.81188   144.88449   \n",
       "\n",
       "                       Regionname  Propertycount           Coordinates  \n",
       "0           Northern Metropolitan         4019.0    -37.7996, 144.9984  \n",
       "1           Northern Metropolitan         4019.0    -37.8079, 144.9934  \n",
       "2           Northern Metropolitan         4019.0    -37.8093, 144.9944  \n",
       "3           Northern Metropolitan         4019.0    -37.7969, 144.9969  \n",
       "4           Northern Metropolitan         4019.0    -37.8072, 144.9941  \n",
       "...                           ...            ...                   ...  \n",
       "13575  South-Eastern Metropolitan         7392.0  -37.90562, 145.16761  \n",
       "13576        Western Metropolitan         6380.0  -37.85927, 144.87904  \n",
       "13577        Western Metropolitan         6380.0  -37.85274, 144.88738  \n",
       "13578        Western Metropolitan         6380.0  -37.85908, 144.89299  \n",
       "13579        Western Metropolitan         6543.0  -37.81188, 144.88449  \n",
       "\n",
       "[13580 rows x 23 columns]"
      ]
     },
     "metadata": {},
     "output_type": "display_data"
    }
   ],
   "source": [
    "melb_data = pd.read_csv('data/melb_data.csv', sep=',')\n",
    "display(melb_data)"
   ]
  },
  {
   "cell_type": "code",
   "execution_count": 7,
   "metadata": {},
   "outputs": [
    {
     "name": "stdout",
     "output_type": "stream",
     "text": [
      "<class 'pandas.core.frame.DataFrame'>\n",
      "RangeIndex: 13580 entries, 0 to 13579\n",
      "Data columns (total 23 columns):\n",
      " #   Column         Non-Null Count  Dtype  \n",
      "---  ------         --------------  -----  \n",
      " 0   index          13580 non-null  int64  \n",
      " 1   Suburb         13580 non-null  object \n",
      " 2   Address        13580 non-null  object \n",
      " 3   Rooms          13580 non-null  int64  \n",
      " 4   Type           13580 non-null  object \n",
      " 5   Price          13580 non-null  float64\n",
      " 6   Method         13580 non-null  object \n",
      " 7   SellerG        13580 non-null  object \n",
      " 8   Date           13580 non-null  object \n",
      " 9   Distance       13580 non-null  float64\n",
      " 10  Postcode       13580 non-null  int64  \n",
      " 11  Bedroom        13580 non-null  int64  \n",
      " 12  Bathroom       13580 non-null  int64  \n",
      " 13  Car            13580 non-null  int64  \n",
      " 14  Landsize       13580 non-null  float64\n",
      " 15  BuildingArea   13580 non-null  float64\n",
      " 16  YearBuilt      13580 non-null  int64  \n",
      " 17  CouncilArea    12211 non-null  object \n",
      " 18  Lattitude      13580 non-null  float64\n",
      " 19  Longtitude     13580 non-null  float64\n",
      " 20  Regionname     13580 non-null  object \n",
      " 21  Propertycount  13580 non-null  int64  \n",
      " 22  Coordinates    13580 non-null  object \n",
      "dtypes: float64(6), int64(8), object(9)\n",
      "memory usage: 2.4+ MB\n"
     ]
    }
   ],
   "source": [
    "melb_data['Car'] = melb_data['Car'].astype('int64')\n",
    "melb_data['Bedroom'] = melb_data['Bedroom'].astype('int64')\n",
    "melb_data['Bathroom'] = melb_data['Bathroom'].astype('int64')\n",
    "melb_data['Propertycount'] = melb_data['Propertycount'].astype('int64')\n",
    "melb_data['YearBuilt'] = melb_data['YearBuilt'].astype('int64')\n",
    "melb_data.info()"
   ]
  },
  {
   "cell_type": "code",
   "execution_count": 23,
   "metadata": {},
   "outputs": [
    {
     "data": {
      "text/plain": [
       "1310000.0"
      ]
     },
     "execution_count": 23,
     "metadata": {},
     "output_type": "execute_result"
    }
   ],
   "source": [
    "melb_data.loc[15, 'Price']"
   ]
  },
  {
   "cell_type": "code",
   "execution_count": 25,
   "metadata": {},
   "outputs": [
    {
     "data": {
      "text/plain": [
       "'10/09/2016'"
      ]
     },
     "execution_count": 25,
     "metadata": {},
     "output_type": "execute_result"
    }
   ],
   "source": [
    "melb_data.loc[90, 'Date']"
   ]
  },
  {
   "cell_type": "code",
   "execution_count": 40,
   "metadata": {},
   "outputs": [
    {
     "name": "stdout",
     "output_type": "stream",
     "text": [
      "234.0\n",
      "84.0\n",
      "3.0\n"
     ]
    }
   ],
   "source": [
    "print(melb_data.loc[3521, 'Landsize'])\n",
    "print(melb_data.loc[1690, 'Landsize'])\n",
    "n = round(melb_data.loc[3521, 'Landsize'] / melb_data.loc[1690, 'Landsize'], 0)\n",
    "print(n)"
   ]
  },
  {
   "cell_type": "code",
   "execution_count": 57,
   "metadata": {},
   "outputs": [
    {
     "data": {
      "text/plain": [
       "1369"
      ]
     },
     "execution_count": 57,
     "metadata": {},
     "output_type": "execute_result"
    }
   ],
   "source": [
    "melb_data.loc[:, 'index'].count() - melb_data.loc[:, 'CouncilArea'].count()\n"
   ]
  },
  {
   "cell_type": "code",
   "execution_count": 4,
   "metadata": {},
   "outputs": [
    {
     "data": {
      "text/html": [
       "<div>\n",
       "<style scoped>\n",
       "    .dataframe tbody tr th:only-of-type {\n",
       "        vertical-align: middle;\n",
       "    }\n",
       "\n",
       "    .dataframe tbody tr th {\n",
       "        vertical-align: top;\n",
       "    }\n",
       "\n",
       "    .dataframe thead th {\n",
       "        text-align: right;\n",
       "    }\n",
       "</style>\n",
       "<table border=\"1\" class=\"dataframe\">\n",
       "  <thead>\n",
       "    <tr style=\"text-align: right;\">\n",
       "      <th></th>\n",
       "      <th>Suburb</th>\n",
       "      <th>Regionname</th>\n",
       "      <th>Coordinates</th>\n",
       "    </tr>\n",
       "  </thead>\n",
       "  <tbody>\n",
       "    <tr>\n",
       "      <th>count</th>\n",
       "      <td>13580</td>\n",
       "      <td>13580</td>\n",
       "      <td>13580</td>\n",
       "    </tr>\n",
       "    <tr>\n",
       "      <th>unique</th>\n",
       "      <td>314</td>\n",
       "      <td>8</td>\n",
       "      <td>13097</td>\n",
       "    </tr>\n",
       "    <tr>\n",
       "      <th>top</th>\n",
       "      <td>Reservoir</td>\n",
       "      <td>Southern Metropolitan</td>\n",
       "      <td>-37.8361, 144.9966</td>\n",
       "    </tr>\n",
       "    <tr>\n",
       "      <th>freq</th>\n",
       "      <td>359</td>\n",
       "      <td>4695</td>\n",
       "      <td>12</td>\n",
       "    </tr>\n",
       "  </tbody>\n",
       "</table>\n",
       "</div>"
      ],
      "text/plain": [
       "           Suburb             Regionname         Coordinates\n",
       "count       13580                  13580               13580\n",
       "unique        314                      8               13097\n",
       "top     Reservoir  Southern Metropolitan  -37.8361, 144.9966\n",
       "freq          359                   4695                  12"
      ]
     },
     "execution_count": 4,
     "metadata": {},
     "output_type": "execute_result"
    }
   ],
   "source": [
    "melb_data.describe(include=['object']).loc[:, ['Suburb', 'Regionname', 'Coordinates']]"
   ]
  },
  {
   "cell_type": "code",
   "execution_count": 79,
   "metadata": {},
   "outputs": [
    {
     "data": {
      "text/plain": [
       "Type\n",
       "h       0.695803\n",
       "u       0.222165\n",
       "t       0.082032\n",
       "dtype: float64"
      ]
     },
     "execution_count": 79,
     "metadata": {},
     "output_type": "execute_result"
    }
   ],
   "source": [
    "melb_data.loc[:, ['Type']].value_counts(normalize=True)"
   ]
  },
  {
   "cell_type": "code",
   "execution_count": 80,
   "metadata": {},
   "outputs": [
    {
     "name": "stdout",
     "output_type": "stream",
     "text": [
      "21650.0\n"
     ]
    }
   ],
   "source": [
    "print(melb_data['Propertycount'].max())"
   ]
  },
  {
   "cell_type": "code",
   "execution_count": 82,
   "metadata": {},
   "outputs": [
    {
     "name": "stdout",
     "output_type": "stream",
     "text": [
      "6 0\n"
     ]
    }
   ],
   "source": [
    "print(round(melb_data['Distance'].std()), 0)"
   ]
  },
  {
   "cell_type": "code",
   "execution_count": 84,
   "metadata": {},
   "outputs": [
    {
     "name": "stdout",
     "output_type": "stream",
     "text": [
      "10.0\n"
     ]
    }
   ],
   "source": [
    "BA_median = melb_data['BuildingArea'].median() \n",
    "BA_mean =  melb_data['BuildingArea'].mean()\n",
    "print(round((abs(BA_median - BA_mean)/BA_mean)*100, 0))"
   ]
  },
  {
   "cell_type": "code",
   "execution_count": 5,
   "metadata": {},
   "outputs": [
    {
     "name": "stdout",
     "output_type": "stream",
     "text": [
      "<class 'pandas.core.frame.DataFrame'>\n",
      "RangeIndex: 13580 entries, 0 to 13579\n",
      "Data columns (total 23 columns):\n",
      " #   Column         Non-Null Count  Dtype  \n",
      "---  ------         --------------  -----  \n",
      " 0   index          13580 non-null  int64  \n",
      " 1   Suburb         13580 non-null  object \n",
      " 2   Address        13580 non-null  object \n",
      " 3   Rooms          13580 non-null  int64  \n",
      " 4   Type           13580 non-null  object \n",
      " 5   Price          13580 non-null  float64\n",
      " 6   Method         13580 non-null  object \n",
      " 7   SellerG        13580 non-null  object \n",
      " 8   Date           13580 non-null  object \n",
      " 9   Distance       13580 non-null  float64\n",
      " 10  Postcode       13580 non-null  int64  \n",
      " 11  Bedroom        13580 non-null  float64\n",
      " 12  Bathroom       13580 non-null  float64\n",
      " 13  Car            13580 non-null  float64\n",
      " 14  Landsize       13580 non-null  float64\n",
      " 15  BuildingArea   13580 non-null  float64\n",
      " 16  YearBuilt      13580 non-null  float64\n",
      " 17  CouncilArea    12211 non-null  object \n",
      " 18  Lattitude      13580 non-null  float64\n",
      " 19  Longtitude     13580 non-null  float64\n",
      " 20  Regionname     13580 non-null  object \n",
      " 21  Propertycount  13580 non-null  float64\n",
      " 22  Coordinates    13580 non-null  object \n",
      "dtypes: float64(11), int64(3), object(9)\n",
      "memory usage: 2.4+ MB\n"
     ]
    }
   ],
   "source": [
    "melb_data.info()"
   ]
  },
  {
   "cell_type": "code",
   "execution_count": 14,
   "metadata": {},
   "outputs": [
    {
     "name": "stdout",
     "output_type": "stream",
     "text": [
      "34\n"
     ]
    }
   ],
   "source": [
    "print(melb_data[melb_data['Bathroom'] == 0].shape[0])"
   ]
  },
  {
   "cell_type": "code",
   "execution_count": 16,
   "metadata": {},
   "outputs": [
    {
     "name": "stdout",
     "output_type": "stream",
     "text": [
      "5\n"
     ]
    }
   ],
   "source": [
    "print(melb_data[(melb_data['SellerG'] == 'Nelson') & (melb_data['Price'] > 3000000)].shape[0])"
   ]
  },
  {
   "cell_type": "code",
   "execution_count": 27,
   "metadata": {},
   "outputs": [
    {
     "data": {
      "text/plain": [
       "412500.0"
      ]
     },
     "execution_count": 27,
     "metadata": {},
     "output_type": "execute_result"
    }
   ],
   "source": [
    "melb_data[melb_data['BuildingArea'] == 0]['Price'].min()"
   ]
  },
  {
   "cell_type": "code",
   "execution_count": 42,
   "metadata": {},
   "outputs": [
    {
     "name": "stdout",
     "output_type": "stream",
     "text": [
      "769239 0\n"
     ]
    }
   ],
   "source": [
    "print(round(melb_data[((melb_data['YearBuilt'] > 2015) | (melb_data['Rooms'] > 5)) & (melb_data['Price'] < 1000000)]['Price'].mean()), 0)"
   ]
  },
  {
   "cell_type": "code",
   "execution_count": 32,
   "metadata": {},
   "outputs": [
    {
     "data": {
      "text/plain": [
       "0    Northern Metropolitan\n",
       "Name: Regionname, dtype: object"
      ]
     },
     "execution_count": 32,
     "metadata": {},
     "output_type": "execute_result"
    }
   ],
   "source": [
    "melb_data[(melb_data['Type'] == 'h') & (melb_data['Price'] < 3000000)]['Regionname'].mode()"
   ]
  },
  {
   "cell_type": "markdown",
   "metadata": {},
   "source": [
    "## Закрепление знаний"
   ]
  },
  {
   "cell_type": "code",
   "execution_count": 43,
   "metadata": {},
   "outputs": [],
   "source": [
    "studs_data = pd.read_csv('data/students_performance.csv', sep=',')"
   ]
  },
  {
   "cell_type": "code",
   "execution_count": 44,
   "metadata": {},
   "outputs": [
    {
     "name": "stdout",
     "output_type": "stream",
     "text": [
      "<class 'pandas.core.frame.DataFrame'>\n",
      "RangeIndex: 1000 entries, 0 to 999\n",
      "Data columns (total 8 columns):\n",
      " #   Column                       Non-Null Count  Dtype \n",
      "---  ------                       --------------  ----- \n",
      " 0   gender                       1000 non-null   object\n",
      " 1   race/ethnicity               1000 non-null   object\n",
      " 2   parental level of education  1000 non-null   object\n",
      " 3   lunch                        1000 non-null   object\n",
      " 4   test preparation course      1000 non-null   object\n",
      " 5   math score                   1000 non-null   int64 \n",
      " 6   reading score                1000 non-null   int64 \n",
      " 7   writing score                1000 non-null   int64 \n",
      "dtypes: int64(3), object(5)\n",
      "memory usage: 62.6+ KB\n"
     ]
    }
   ],
   "source": [
    "studs_data.info()"
   ]
  },
  {
   "cell_type": "code",
   "execution_count": 55,
   "metadata": {},
   "outputs": [
    {
     "data": {
      "text/plain": [
       "88"
      ]
     },
     "execution_count": 55,
     "metadata": {},
     "output_type": "execute_result"
    }
   ],
   "source": [
    "studs_data['writing score'].loc[155]"
   ]
  },
  {
   "cell_type": "code",
   "execution_count": 62,
   "metadata": {},
   "outputs": [
    {
     "data": {
      "text/plain": [
       "66.089"
      ]
     },
     "execution_count": 62,
     "metadata": {},
     "output_type": "execute_result"
    }
   ],
   "source": [
    "studs_data['math score'].mean()"
   ]
  },
  {
   "cell_type": "code",
   "execution_count": 63,
   "metadata": {},
   "outputs": [
    {
     "data": {
      "text/plain": [
       "group C    319\n",
       "group D    262\n",
       "group B    190\n",
       "group E    140\n",
       "group A     89\n",
       "Name: race/ethnicity, dtype: int64"
      ]
     },
     "execution_count": 63,
     "metadata": {},
     "output_type": "execute_result"
    }
   ],
   "source": [
    "studs_data['race/ethnicity'].value_counts() "
   ]
  },
  {
   "cell_type": "code",
   "execution_count": 74,
   "metadata": {},
   "outputs": [
    {
     "data": {
      "text/html": [
       "<div>\n",
       "<style scoped>\n",
       "    .dataframe tbody tr th:only-of-type {\n",
       "        vertical-align: middle;\n",
       "    }\n",
       "\n",
       "    .dataframe tbody tr th {\n",
       "        vertical-align: top;\n",
       "    }\n",
       "\n",
       "    .dataframe thead th {\n",
       "        text-align: right;\n",
       "    }\n",
       "</style>\n",
       "<table border=\"1\" class=\"dataframe\">\n",
       "  <thead>\n",
       "    <tr style=\"text-align: right;\">\n",
       "      <th></th>\n",
       "      <th>gender</th>\n",
       "      <th>race/ethnicity</th>\n",
       "      <th>parental level of education</th>\n",
       "      <th>lunch</th>\n",
       "      <th>test preparation course</th>\n",
       "      <th>math score</th>\n",
       "      <th>reading score</th>\n",
       "      <th>writing score</th>\n",
       "    </tr>\n",
       "  </thead>\n",
       "  <tbody>\n",
       "    <tr>\n",
       "      <th>0</th>\n",
       "      <td>female</td>\n",
       "      <td>group B</td>\n",
       "      <td>bachelor's degree</td>\n",
       "      <td>standard</td>\n",
       "      <td>none</td>\n",
       "      <td>72</td>\n",
       "      <td>72</td>\n",
       "      <td>74</td>\n",
       "    </tr>\n",
       "    <tr>\n",
       "      <th>1</th>\n",
       "      <td>female</td>\n",
       "      <td>group C</td>\n",
       "      <td>some college</td>\n",
       "      <td>standard</td>\n",
       "      <td>completed</td>\n",
       "      <td>69</td>\n",
       "      <td>90</td>\n",
       "      <td>88</td>\n",
       "    </tr>\n",
       "    <tr>\n",
       "      <th>2</th>\n",
       "      <td>female</td>\n",
       "      <td>group B</td>\n",
       "      <td>master's degree</td>\n",
       "      <td>standard</td>\n",
       "      <td>none</td>\n",
       "      <td>90</td>\n",
       "      <td>95</td>\n",
       "      <td>93</td>\n",
       "    </tr>\n",
       "    <tr>\n",
       "      <th>3</th>\n",
       "      <td>male</td>\n",
       "      <td>group A</td>\n",
       "      <td>associate's degree</td>\n",
       "      <td>free/reduced</td>\n",
       "      <td>none</td>\n",
       "      <td>47</td>\n",
       "      <td>57</td>\n",
       "      <td>44</td>\n",
       "    </tr>\n",
       "    <tr>\n",
       "      <th>4</th>\n",
       "      <td>male</td>\n",
       "      <td>group C</td>\n",
       "      <td>some college</td>\n",
       "      <td>standard</td>\n",
       "      <td>none</td>\n",
       "      <td>76</td>\n",
       "      <td>78</td>\n",
       "      <td>75</td>\n",
       "    </tr>\n",
       "  </tbody>\n",
       "</table>\n",
       "</div>"
      ],
      "text/plain": [
       "   gender race/ethnicity parental level of education         lunch  \\\n",
       "0  female        group B           bachelor's degree      standard   \n",
       "1  female        group C                some college      standard   \n",
       "2  female        group B             master's degree      standard   \n",
       "3    male        group A          associate's degree  free/reduced   \n",
       "4    male        group C                some college      standard   \n",
       "\n",
       "  test preparation course  math score  reading score  writing score  \n",
       "0                    none          72             72             74  \n",
       "1               completed          69             90             88  \n",
       "2                    none          90             95             93  \n",
       "3                    none          47             57             44  \n",
       "4                    none          76             78             75  "
      ]
     },
     "execution_count": 74,
     "metadata": {},
     "output_type": "execute_result"
    }
   ],
   "source": [
    "studs_data.head()"
   ]
  },
  {
   "cell_type": "code",
   "execution_count": 70,
   "metadata": {},
   "outputs": [
    {
     "data": {
      "text/plain": [
       "'completed'"
      ]
     },
     "execution_count": 70,
     "metadata": {},
     "output_type": "execute_result"
    }
   ],
   "source": [
    "studs_data['test preparation course'].loc[1]"
   ]
  },
  {
   "cell_type": "code",
   "execution_count": 79,
   "metadata": {},
   "outputs": [
    {
     "data": {
      "text/plain": [
       "73.89385474860335"
      ]
     },
     "execution_count": 79,
     "metadata": {},
     "output_type": "execute_result"
    }
   ],
   "source": [
    "studs_data[studs_data['test preparation course'] == 'completed']['reading score'].mean()"
   ]
  },
  {
   "cell_type": "code",
   "execution_count": 81,
   "metadata": {},
   "outputs": [
    {
     "data": {
      "text/plain": [
       "1"
      ]
     },
     "execution_count": 81,
     "metadata": {},
     "output_type": "execute_result"
    }
   ],
   "source": [
    "studs_data[studs_data['math score'] == 0].shape[0]"
   ]
  },
  {
   "cell_type": "code",
   "execution_count": 86,
   "metadata": {},
   "outputs": [
    {
     "name": "stdout",
     "output_type": "stream",
     "text": [
      "70.03410852713178\n",
      "58.92112676056338\n"
     ]
    }
   ],
   "source": [
    "print(studs_data[studs_data['lunch'] == 'standard']['math score'].mean())\n",
    "print(studs_data[studs_data['lunch'] == 'free/reduced']['math score'].mean())"
   ]
  },
  {
   "cell_type": "code",
   "execution_count": 91,
   "metadata": {},
   "outputs": [
    {
     "data": {
      "text/plain": [
       "11.799999999999999"
      ]
     },
     "execution_count": 91,
     "metadata": {},
     "output_type": "execute_result"
    }
   ],
   "source": [
    "studs_data[studs_data['parental level of education'] == \"bachelor's degree\"].shape[0] / studs_data['parental level of education'].shape[0] * 100"
   ]
  },
  {
   "cell_type": "code",
   "execution_count": 92,
   "metadata": {},
   "outputs": [
    {
     "name": "stdout",
     "output_type": "stream",
     "text": [
      "6.0\n"
     ]
    }
   ],
   "source": [
    "median_value = studs_data[studs_data['race/ethnicity'] == 'group A']['writing score'].median()\n",
    "mean_value = studs_data[studs_data['race/ethnicity'] == 'group C']['writing score'].mean()\n",
    "score = round(abs(median_value-mean_value), 0)\n",
    "print(score)"
   ]
  }
 ],
 "metadata": {
  "kernelspec": {
   "display_name": "Python 3.9.13 64-bit",
   "language": "python",
   "name": "python3"
  },
  "language_info": {
   "codemirror_mode": {
    "name": "ipython",
    "version": 3
   },
   "file_extension": ".py",
   "mimetype": "text/x-python",
   "name": "python",
   "nbconvert_exporter": "python",
   "pygments_lexer": "ipython3",
   "version": "3.9.13"
  },
  "orig_nbformat": 4,
  "vscode": {
   "interpreter": {
    "hash": "1fce26a766966117fec8ff7d04b010adfd6711f82a949ef099f5ccb9de995e07"
   }
  }
 },
 "nbformat": 4,
 "nbformat_minor": 2
}
