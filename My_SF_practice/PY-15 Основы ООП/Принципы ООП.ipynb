{
 "cells": [
  {
   "cell_type": "code",
   "execution_count": 7,
   "metadata": {},
   "outputs": [
    {
     "name": "stdout",
     "output_type": "stream",
     "text": [
      "Average department revenue for Danon : 217167\n"
     ]
    }
   ],
   "source": [
    "class DepartmentReport():\n",
    "    \n",
    "    def __init__ (self, company_name):\n",
    "        self.company = company_name\n",
    "        self.revenues = []\n",
    "        \n",
    "    def add_revenue(self, amount):\n",
    "        self.revenues.append(amount)\n",
    "                \n",
    "    def average_revenue(self):\n",
    "        return f'Average department revenue for {self.company} : {int(round(sum(self.revenues)/len(self.revenues), 0))}'\n",
    " \n",
    "res = DepartmentReport('Danon')\n",
    "res.add_revenue(500000)\n",
    "res.add_revenue(150000)\n",
    "res.add_revenue(1500)\n",
    "\n",
    "\n",
    "print(res.average_revenue())"
   ]
  },
  {
   "cell_type": "code",
   "execution_count": 10,
   "metadata": {},
   "outputs": [
    {
     "name": "stdout",
     "output_type": "stream",
     "text": [
      "True\n"
     ]
    }
   ],
   "source": [
    "class User():\n",
    "    def __init__(self, email, password, balance):\n",
    "        self.email = email\n",
    "        self.password = password\n",
    "        self.balance = balance\n",
    "    \n",
    "    def login(self, email, password):\n",
    "        if self.email == email and self.password == password:\n",
    "            return True\n",
    "        else:\n",
    "            return False\n",
    "        \n",
    "    def update_balance(self, amount):\n",
    "        self.balance += amount\n",
    "        \n",
    "print(User(email = 'gosha@roskino.org', password = 'qweasd963', balance = 50000).login(email = 'gosha@roskino.org', password = 'qweasd963'))"
   ]
  },
  {
   "cell_type": "code",
   "execution_count": 16,
   "metadata": {},
   "outputs": [
    {
     "name": "stdout",
     "output_type": "stream",
     "text": [
      "5\n",
      "4\n"
     ]
    }
   ],
   "source": [
    "class IntDataFrame():\n",
    "    \n",
    "    def __init__(self, lst):\n",
    "        self.lst = lst\n",
    "        self.to_int()\n",
    "    \n",
    "    def to_int(self):\n",
    "        self.lst = [int(value) for value in self.lst]\n",
    "        \n",
    "    def count(self, n=0):\n",
    "        for value in self.lst:\n",
    "            if value != 0:\n",
    "                n += 1\n",
    "        return n\n",
    "    \n",
    "    def unique(self):\n",
    "        return len(set(self.lst))\n",
    "        \n",
    "df = IntDataFrame([4.7, 4, 3, 0, 2.4, 0.3, 4])\n",
    "print(df.count())\n",
    "print(df.unique())\n",
    "    "
   ]
  },
  {
   "cell_type": "code",
   "execution_count": 17,
   "metadata": {},
   "outputs": [
    {
     "name": "stdout",
     "output_type": "stream",
     "text": [
      "{'perfomance': [10, 20, 10], 'clients': {'Romashka': 10, 'Vector': 34}}\n"
     ]
    }
   ],
   "source": [
    "import pickle  \n",
    "from datetime import datetime  \n",
    "from os import path  \n",
    "  \n",
    "class Dumper():  \n",
    "    def __init__(self, archive_dir=\"archive/\"):  \n",
    "        self.archive_dir = archive_dir  \n",
    "          \n",
    "    def dump(self, data):  \n",
    "        # Библиотека pickle позволяет доставать и класть объекты в файл  \n",
    "        with open(self.get_file_name(), 'wb') as file:  \n",
    "            pickle.dump(data, file)  \n",
    "              \n",
    "    def load_for_day(self, day):  \n",
    "        file_name = path.join(self.archive_dir, day + \".pkl\")   \n",
    "        with open(file_name, 'rb') as file:  \n",
    "            sets = pickle.load(file)  \n",
    "        return sets  \n",
    "          \n",
    "    # возвращает корректное имя для файла   \n",
    "    def get_file_name(self):   \n",
    "        today = datetime.now().strftime(\"%y-%m-%d\")   \n",
    "        return path.join(self.archive_dir, today + \".pkl\")  \n",
    "      \n",
    "      \n",
    "# Пример использования  \n",
    "  \n",
    "data = {  \n",
    "    'perfomance': [10, 20, 10],  \n",
    "    'clients': {\"Romashka\": 10, \"Vector\": 34}  \n",
    "}  \n",
    "  \n",
    "  \n",
    "dumper = Dumper()  \n",
    "  \n",
    "# Сохраним данные  \n",
    "dumper.dump(data)  \n",
    "  \n",
    "# Восстановим для сегодняшней даты  \n",
    "file_name = datetime.now().strftime(\"%y-%m-%d\")\n",
    "restored_data = dumper.load_for_day(file_name)\n",
    "print(restored_data)  "
   ]
  },
  {
   "cell_type": "code",
   "execution_count": 27,
   "metadata": {},
   "outputs": [],
   "source": [
    "class OwnLogger():\n",
    "    \n",
    "    def __init__(self, logs={\"info\": None, \"warning\": None, \"error\": None, \"all\": None}):\n",
    "        self.logs = logs\n",
    "        \n",
    "    def log(self, message, level):\n",
    "        self.logs.update({level: message, \"all\": message})\n",
    "        \n",
    "    def show_last(self, level=\"all\"):\n",
    "        print(self.logs.get(level))\n",
    "        \n"
   ]
  },
  {
   "cell_type": "code",
   "execution_count": 28,
   "metadata": {},
   "outputs": [
    {
     "name": "stdout",
     "output_type": "stream",
     "text": [
      "None\n"
     ]
    }
   ],
   "source": [
    "logger = OwnLogger()\n",
    "logger.log(\"System started\", \"info\")\n",
    "logger.show_last(\"error\")"
   ]
  },
  {
   "cell_type": "code",
   "execution_count": 29,
   "metadata": {},
   "outputs": [
    {
     "name": "stdout",
     "output_type": "stream",
     "text": [
      "Connection lost\n",
      "System started\n"
     ]
    }
   ],
   "source": [
    "logger.log(\"Connection instable\", \"warning\")\n",
    "logger.log(\"Connection lost\", \"error\")\n",
    "logger.show_last()\n",
    "\n",
    "logger.show_last(\"info\")\n"
   ]
  },
  {
   "cell_type": "code",
   "execution_count": 30,
   "metadata": {},
   "outputs": [
    {
     "name": "stdout",
     "output_type": "stream",
     "text": [
      "{'info': 'System started', 'warning': 'Connection instable', 'error': 'Connection lost', 'all': 'Connection lost'}\n"
     ]
    }
   ],
   "source": [
    "print(OwnLogger().logs)"
   ]
  },
  {
   "cell_type": "code",
   "execution_count": 34,
   "metadata": {},
   "outputs": [],
   "source": [
    "class Dog():\n",
    "    def __init__(self, name):\n",
    "        self.name = name\n",
    "        \n",
    "    def bark(self):\n",
    "        print(\"Bark!\")\n",
    "        \n",
    "    def give_paw(self):\n",
    "        print(\"Paw\")"
   ]
  },
  {
   "cell_type": "code",
   "execution_count": 42,
   "metadata": {},
   "outputs": [
    {
     "name": "stdout",
     "output_type": "stream",
     "text": [
      "Текущая директория e:\\YandexDisk\\DST-3\\IDE\\My_SF_practice\\PY-15 Основы ООП\n",
      "---\n",
      "Список папок ['.ipynb_checkpoints', 'archive']\n",
      "---\n",
      "Список файлов ['Принципы ООП.ipynb']\n",
      "---\n",
      "Все пути:\n",
      "Файл  e:\\YandexDisk\\DST-3\\IDE\\My_SF_practice\\PY-15 Основы ООП\\Принципы ООП.ipynb\n",
      "Папка  e:\\YandexDisk\\DST-3\\IDE\\My_SF_practice\\PY-15 Основы ООП\\.ipynb_checkpoints\n",
      "Папка  e:\\YandexDisk\\DST-3\\IDE\\My_SF_practice\\PY-15 Основы ООП\\archive\n",
      "===\n",
      "Текущая директория e:\\YandexDisk\\DST-3\\IDE\\My_SF_practice\\PY-15 Основы ООП\\.ipynb_checkpoints\n",
      "---\n",
      "Папок нет\n",
      "---\n",
      "Файлов нет\n",
      "---\n",
      "===\n",
      "Текущая директория e:\\YandexDisk\\DST-3\\IDE\\My_SF_practice\\PY-15 Основы ООП\\archive\n",
      "---\n",
      "Папок нет\n",
      "---\n",
      "Список файлов ['23-01-13.pkl']\n",
      "---\n",
      "Файл  e:\\YandexDisk\\DST-3\\IDE\\My_SF_practice\\PY-15 Основы ООП\\archive\\23-01-13.pkl\n",
      "===\n"
     ]
    }
   ],
   "source": [
    "import os\n",
    "\n",
    "def walk_desc(path=None):\n",
    "    start_path = path if path is not None else os.getcwd()\n",
    "\n",
    "    for root, dirs, files in os.walk(start_path):\n",
    "        print(\"Текущая директория\", root)\n",
    "        print(\"---\")\n",
    "\n",
    "        if dirs:\n",
    "            print(\"Список папок\", dirs)\n",
    "        else:\n",
    "            print(\"Папок нет\")\n",
    "        print(\"---\")\n",
    "\n",
    "        if files:\n",
    "            print(\"Список файлов\", files)\n",
    "        else:\n",
    "            print(\"Файлов нет\")\n",
    "        print(\"---\")\n",
    "\n",
    "        if files and dirs:\n",
    "            print(\"Все пути:\")\n",
    "        for f in files:\n",
    "            print(\"Файл \", os.path.join(root, f))\n",
    "        for d in dirs:\n",
    "            print(\"Папка \", os.path.join(root, d))\n",
    "        print(\"===\")\n",
    "\n",
    "walk_desc()"
   ]
  }
 ],
 "metadata": {
  "kernelspec": {
   "display_name": "Python 3",
   "language": "python",
   "name": "python3"
  },
  "language_info": {
   "codemirror_mode": {
    "name": "ipython",
    "version": 3
   },
   "file_extension": ".py",
   "mimetype": "text/x-python",
   "name": "python",
   "nbconvert_exporter": "python",
   "pygments_lexer": "ipython3",
   "version": "3.9.13"
  },
  "orig_nbformat": 4,
  "vscode": {
   "interpreter": {
    "hash": "1fce26a766966117fec8ff7d04b010adfd6711f82a949ef099f5ccb9de995e07"
   }
  }
 },
 "nbformat": 4,
 "nbformat_minor": 2
}
